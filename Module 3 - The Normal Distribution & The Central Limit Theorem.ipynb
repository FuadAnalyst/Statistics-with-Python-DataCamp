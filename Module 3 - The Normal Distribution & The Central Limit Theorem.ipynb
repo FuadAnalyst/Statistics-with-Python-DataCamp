{
 "cells": [
  {
   "cell_type": "markdown",
   "id": "e6c76404",
   "metadata": {},
   "source": [
    "# The Normal Distribution"
   ]
  },
  {
   "cell_type": "code",
   "execution_count": 1,
   "id": "a142a761",
   "metadata": {},
   "outputs": [],
   "source": [
    "# It's symmetrical and Continious\n",
    "# The area beneath the curve is 1\n",
    "# The probability never hits 0"
   ]
  },
  {
   "cell_type": "code",
   "execution_count": 2,
   "id": "9828888d",
   "metadata": {},
   "outputs": [],
   "source": [
    "# The Normal Distribution is described by it's mean and standard deviation"
   ]
  },
  {
   "cell_type": "code",
   "execution_count": null,
   "id": "c0616aef",
   "metadata": {},
   "outputs": [],
   "source": [
    "# 68-95-99.7 rule\n",
    "# Areas under the normal distribution\n",
    "# 68% - of the area is within 1 standard deviations\n",
    "# 95% - of the area is within 2 standard deviations\n",
    "# 99.7% - of the area is within 3 standard deviations"
   ]
  },
  {
   "cell_type": "code",
   "execution_count": 13,
   "id": "eea7da5e",
   "metadata": {},
   "outputs": [],
   "source": [
    "import pandas as pd\n",
    "import numpy as np\n",
    "import matplotlib.pyplot as plt\n",
    "from scipy.stats import norm"
   ]
  },
  {
   "cell_type": "code",
   "execution_count": 7,
   "id": "51d18856",
   "metadata": {},
   "outputs": [
    {
     "data": {
      "text/html": [
       "<div>\n",
       "<style scoped>\n",
       "    .dataframe tbody tr th:only-of-type {\n",
       "        vertical-align: middle;\n",
       "    }\n",
       "\n",
       "    .dataframe tbody tr th {\n",
       "        vertical-align: top;\n",
       "    }\n",
       "\n",
       "    .dataframe thead th {\n",
       "        text-align: right;\n",
       "    }\n",
       "</style>\n",
       "<table border=\"1\" class=\"dataframe\">\n",
       "  <thead>\n",
       "    <tr style=\"text-align: right;\">\n",
       "      <th></th>\n",
       "      <th>Unnamed: 0</th>\n",
       "      <th>Weight (kg)</th>\n",
       "      <th>Standing Height (cm)</th>\n",
       "      <th>BMI(kg/m**2)</th>\n",
       "    </tr>\n",
       "  </thead>\n",
       "  <tbody>\n",
       "    <tr>\n",
       "      <th>0</th>\n",
       "      <td>0</td>\n",
       "      <td>97.1</td>\n",
       "      <td>160.2</td>\n",
       "      <td>37.8</td>\n",
       "    </tr>\n",
       "    <tr>\n",
       "      <th>1</th>\n",
       "      <td>1</td>\n",
       "      <td>98.8</td>\n",
       "      <td>182.3</td>\n",
       "      <td>29.7</td>\n",
       "    </tr>\n",
       "    <tr>\n",
       "      <th>2</th>\n",
       "      <td>2</td>\n",
       "      <td>74.3</td>\n",
       "      <td>184.2</td>\n",
       "      <td>21.9</td>\n",
       "    </tr>\n",
       "    <tr>\n",
       "      <th>3</th>\n",
       "      <td>3</td>\n",
       "      <td>103.7</td>\n",
       "      <td>185.3</td>\n",
       "      <td>30.2</td>\n",
       "    </tr>\n",
       "    <tr>\n",
       "      <th>4</th>\n",
       "      <td>4</td>\n",
       "      <td>83.3</td>\n",
       "      <td>177.1</td>\n",
       "      <td>26.6</td>\n",
       "    </tr>\n",
       "  </tbody>\n",
       "</table>\n",
       "</div>"
      ],
      "text/plain": [
       "   Unnamed: 0  Weight (kg)  Standing Height (cm)  BMI(kg/m**2)\n",
       "0           0         97.1                 160.2          37.8\n",
       "1           1         98.8                 182.3          29.7\n",
       "2           2         74.3                 184.2          21.9\n",
       "3           3        103.7                 185.3          30.2\n",
       "4           4         83.3                 177.1          26.6"
      ]
     },
     "execution_count": 7,
     "metadata": {},
     "output_type": "execute_result"
    }
   ],
   "source": [
    "df = pd.read_csv('height.csv')\n",
    "df.head()"
   ]
  },
  {
   "cell_type": "code",
   "execution_count": 9,
   "id": "f81f1c31",
   "metadata": {},
   "outputs": [
    {
     "data": {
      "text/plain": [
       "0       160.2\n",
       "1       182.3\n",
       "2       184.2\n",
       "3       185.3\n",
       "4       177.1\n",
       "        ...  \n",
       "8383    178.8\n",
       "8384    147.8\n",
       "8385    168.7\n",
       "8386    176.4\n",
       "8387    167.5\n",
       "Name: Standing Height (cm), Length: 8388, dtype: float64"
      ]
     },
     "execution_count": 9,
     "metadata": {},
     "output_type": "execute_result"
    }
   ],
   "source": [
    "height = df['Standing Height (cm)']\n",
    "height"
   ]
  },
  {
   "cell_type": "code",
   "execution_count": 30,
   "id": "c2a4ad0a",
   "metadata": {},
   "outputs": [
    {
     "data": {
      "image/png": "[encoded data removed]",
      "text/plain": [
       "<Figure size 640x480 with 1 Axes>"
      ]
     },
     "metadata": {},
     "output_type": "display_data"
    }
   ],
   "source": [
    "# Normal Distribution\n",
    "\n",
    "# Plot between min and max with .001 steps. \n",
    "x_axis = np.arange(height.min(), height.max(), 0.01) \n",
    "  \n",
    "# Calculating mean and standard deviation \n",
    "mean = np.mean(x_axis) #165\n",
    "sd = np.std(x_axis)  #10\n",
    "  \n",
    "plt.plot(x_axis, norm.pdf(x_axis, mean, sd)) \n",
    "plt.show() "
   ]
  },
  {
   "cell_type": "code",
   "execution_count": 34,
   "id": "5666f1e1",
   "metadata": {},
   "outputs": [
    {
     "data": {
      "text/plain": [
       "0.7126354060859048"
      ]
     },
     "execution_count": 34,
     "metadata": {},
     "output_type": "execute_result"
    }
   ],
   "source": [
    "# What percent of woman are shorten than me (171cm)?\n",
    "norm.cdf(171, mean, std) #71% of women are shorter than me\n",
    "\n",
    "# What percent of women are taller than 160 cm?\n",
    "1 - norm.cdf(160, mean, std) #70% of woman are taller than 160cm\n",
    "\n",
    "# What percent of women are between 160 and 165 cm?\n",
    "norm.cdf(165, mean, std) - norm.cdf(160, mean, std) #18% of women are between 160-165cm, every 5 or 6 women"
   ]
  },
  {
   "cell_type": "code",
   "execution_count": 38,
   "id": "cd7afa1d",
   "metadata": {},
   "outputs": [
    {
     "data": {
      "text/plain": [
       "178.26100550051424"
      ]
     },
     "execution_count": 38,
     "metadata": {},
     "output_type": "execute_result"
    }
   ],
   "source": [
    "# What height are 90% of women shorter than?\n",
    "norm.ppf(0.9, mean, std) #178 cm\n",
    "\n",
    "# What height are 90% of women are taller than?\n",
    "norm.ppf((1-0.9), mean, std) #152cm"
   ]
  },
  {
   "cell_type": "code",
   "execution_count": 45,
   "id": "4e86ca61",
   "metadata": {},
   "outputs": [
    {
     "data": {
      "text/plain": [
       "array([174.09155471, 177.56112418, 150.1082502 , 173.3907771 ,\n",
       "       163.93653533, 152.04905315, 169.17878366, 184.19310115,\n",
       "       178.40108016, 189.3448132 , 152.90238436, 154.22543877,\n",
       "       171.25766574, 172.08862315, 154.22889452, 175.46812985,\n",
       "       174.2967509 , 174.32911741, 170.6946982 , 165.9170043 ,\n",
       "       144.71301983, 153.26050915, 162.17815846, 175.36550637,\n",
       "       165.2951458 , 170.2756984 , 158.41458743, 169.1848317 ,\n",
       "       145.7862434 , 166.2962435 ])"
      ]
     },
     "execution_count": 45,
     "metadata": {},
     "output_type": "execute_result"
    }
   ],
   "source": [
    "# Generating/Simulating 10 random numbers\n",
    "gen10 = norm.rvs(mean, std, size = 30)\n",
    "gen10"
   ]
  },
  {
   "cell_type": "code",
   "execution_count": 46,
   "id": "d3d9b88a",
   "metadata": {},
   "outputs": [
    {
     "data": {
      "text/plain": [
       "(array([2., 4., 2., 2., 4., 5., 7., 2., 1., 1.]),\n",
       " array([144.71301983, 149.17619917, 153.63937851, 158.10255784,\n",
       "        162.56573718, 167.02891652, 171.49209585, 175.95527519,\n",
       "        180.41845453, 184.88163387, 189.3448132 ]),\n",
       " <BarContainer object of 10 artists>)"
      ]
     },
     "execution_count": 46,
     "metadata": {},
     "output_type": "execute_result"
    },
    {
     "data": {
      "image/png": "[encoded data removed]",
      "text/plain": [
       "<Figure size 640x480 with 1 Axes>"
      ]
     },
     "metadata": {},
     "output_type": "display_data"
    }
   ],
   "source": [
    "plt.hist(gen10)"
   ]
  },
  {
   "cell_type": "markdown",
   "id": "4b5df9eb",
   "metadata": {},
   "source": [
    "# The Central Limit Theorem"
   ]
  },
  {
   "cell_type": "code",
   "execution_count": null,
   "id": "c1830238",
   "metadata": {},
   "outputs": [],
   "source": [
    "# CLT - the sampling distribution of a statistic becomes closer to\n",
    "# the normal distribution as the number of trials increases\n",
    "\n",
    "# !!! ONLY when samples are taken randomly and are independent (with replace) !!!"
   ]
  },
  {
   "cell_type": "code",
   "execution_count": 57,
   "id": "23b4b136",
   "metadata": {},
   "outputs": [
    {
     "name": "stdout",
     "output_type": "stream",
     "text": [
      "3.2\n"
     ]
    }
   ],
   "source": [
    "# Rolling dice 5 times\n",
    "\n",
    "die = pd.Series([1,2,3,4,5,6]) #'list' object has no attribute 'sample'\n",
    "samp5 = die.sample(5, replace = True) # Could be same values\n",
    "samp5.values\n",
    "\n",
    "print(np.mean(samp5))"
   ]
  },
  {
   "cell_type": "code",
   "execution_count": 60,
   "id": "9cb7c120",
   "metadata": {},
   "outputs": [
    {
     "data": {
      "text/plain": [
       "(array([1., 0., 0., 0., 2., 0., 1., 2., 3., 1.]),\n",
       " array([2.4 , 2.62, 2.84, 3.06, 3.28, 3.5 , 3.72, 3.94, 4.16, 4.38, 4.6 ]),\n",
       " <BarContainer object of 10 artists>)"
      ]
     },
     "execution_count": 60,
     "metadata": {},
     "output_type": "execute_result"
    },
    {
     "data": {
      "image/png": "[encoded data removed]",
      "text/plain": [
       "<Figure size 640x480 with 1 Axes>"
      ]
     },
     "metadata": {},
     "output_type": "display_data"
    }
   ],
   "source": [
    "# Rolling dice 5 times 10 repeats\n",
    "sample_means = []\n",
    "\n",
    "for i in range(10):\n",
    "    samp5 = die.sample(5, replace = True)\n",
    "    sample_means.append(np.mean(samp5))\n",
    "\n",
    "sample_means\n",
    "plt.hist(sample_means)"
   ]
  },
  {
   "cell_type": "code",
   "execution_count": 62,
   "id": "426ca797",
   "metadata": {},
   "outputs": [
    {
     "data": {
      "text/plain": [
       "(array([ 13.,  45.,  98., 153., 194., 219., 134.,  79.,  49.,  16.]),\n",
       " array([1.4 , 1.82, 2.24, 2.66, 3.08, 3.5 , 3.92, 4.34, 4.76, 5.18, 5.6 ]),\n",
       " <BarContainer object of 10 artists>)"
      ]
     },
     "execution_count": 62,
     "metadata": {},
     "output_type": "execute_result"
    },
    {
     "data": {
      "image/png": "[encoded data removed]",
      "text/plain": [
       "<Figure size 640x480 with 1 Axes>"
      ]
     },
     "metadata": {},
     "output_type": "display_data"
    }
   ],
   "source": [
    "sample_means = []\n",
    "\n",
    "for i in range(1000):\n",
    "    samp5 = die.sample(5, replace = True)\n",
    "    sample_means.append(np.mean(samp5))\n",
    "\n",
    "sample_means\n",
    "plt.hist(sample_means)"
   ]
  },
  {
   "cell_type": "code",
   "execution_count": 69,
   "id": "0c80a373",
   "metadata": {},
   "outputs": [
    {
     "data": {
      "text/plain": [
       "(array([ 20.,  70.,  48., 166., 135., 203., 155., 118.,  72.,  13.]),\n",
       " array([0.4       , 0.60494897, 0.80989795, 1.01484692, 1.2197959 ,\n",
       "        1.42474487, 1.62969385, 1.83464282, 2.03959179, 2.24454077,\n",
       "        2.44948974]),\n",
       " <BarContainer object of 10 artists>)"
      ]
     },
     "execution_count": 69,
     "metadata": {},
     "output_type": "execute_result"
    },
    {
     "data": {
      "image/png": "[encoded data removed]",
      "text/plain": [
       "<Figure size 640x480 with 1 Axes>"
      ]
     },
     "metadata": {},
     "output_type": "display_data"
    }
   ],
   "source": [
    "# Standard deviation and CLT\n",
    "\n",
    "sample_sales = []\n",
    "\n",
    "for i in range(1000):\n",
    "    sample_sales.append(np.std(die.sample(5, replace = True)))\n",
    "    \n",
    "plt.hist(sample_sales)"
   ]
  },
  {
   "cell_type": "code",
   "execution_count": null,
   "id": "49f86c76",
   "metadata": {},
   "outputs": [],
   "source": []
  }
 ],
 "metadata": {
  "kernelspec": {
   "display_name": "Python 3 (ipykernel)",
   "language": "python",
   "name": "python3"
  },
  "language_info": {
   "codemirror_mode": {
    "name": "ipython",
    "version": 3
   },
   "file_extension": ".py",
   "mimetype": "text/x-python",
   "name": "python",
   "nbconvert_exporter": "python",
   "pygments_lexer": "ipython3",
   "version": "3.11.3"
  }
 },
 "nbformat": 4,
 "nbformat_minor": 5
}
