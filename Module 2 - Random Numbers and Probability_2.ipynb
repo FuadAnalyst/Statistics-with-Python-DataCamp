{
 "cells": [
  {
   "cell_type": "code",
   "execution_count": 1,
   "id": "0a022337",
   "metadata": {},
   "outputs": [],
   "source": [
    "import pandas as pd\n",
    "import numpy as np\n",
    "import matplotlib.pyplot as plt\n",
    "from scipy.stats import uniform"
   ]
  },
  {
   "cell_type": "code",
   "execution_count": 2,
   "id": "2c16e5e9",
   "metadata": {},
   "outputs": [],
   "source": [
    "# Continuous uniform distribution - t's a distribution where the variable can take on any value within a certain interval.\n",
    "# Like 1.7 or 1.7235, not like discrete where only 1, 2. \n",
    "# So in Continuous distribution we have infinite possibilities in between values"
   ]
  },
  {
   "cell_type": "markdown",
   "id": "e6293fef",
   "metadata": {},
   "source": [
    "# Uniform distribution in Python"
   ]
  },
  {
   "cell_type": "code",
   "execution_count": 12,
   "id": "45246ed0",
   "metadata": {
    "scrolled": true
   },
   "outputs": [
    {
     "data": {
      "text/plain": [
       "0.21333333333333335"
      ]
     },
     "execution_count": 12,
     "metadata": {},
     "output_type": "execute_result"
    }
   ],
   "source": [
    "# Probability (being the age <= 17)\n",
    "\n",
    "# uniform.cdf(num we want to find probability, start, end)\n",
    "\n",
    "uniform.cdf(17, 1, 75)\n",
    "# 21% of probability of being less than 17 years old"
   ]
  },
  {
   "cell_type": "code",
   "execution_count": 17,
   "id": "95e89905",
   "metadata": {},
   "outputs": [
    {
     "data": {
      "text/plain": [
       "0.7866666666666666"
      ]
     },
     "execution_count": 17,
     "metadata": {},
     "output_type": "execute_result"
    }
   ],
   "source": [
    "# Probability (being the age >= 17) = 1 - P(being the age <= 17)\n",
    "\n",
    "1 - uniform.cdf(17, 1, 75)\n",
    "# 78% of probability of being older than 17 years old"
   ]
  },
  {
   "cell_type": "code",
   "execution_count": 18,
   "id": "9a167a83",
   "metadata": {},
   "outputs": [
    {
     "data": {
      "text/plain": [
       "0.16"
      ]
     },
     "execution_count": 18,
     "metadata": {},
     "output_type": "execute_result"
    }
   ],
   "source": [
    "# Probability (18 <= being the age <= 30) = P(being the age <= 30) - P(being the age <= 18)\n",
    "\n",
    "uniform.cdf(30, 1, 75) - uniform.cdf(18, 1, 75)\n",
    "# 16% of probability of being between 18 and 30 years old"
   ]
  },
  {
   "cell_type": "code",
   "execution_count": 22,
   "id": "8b63f336",
   "metadata": {},
   "outputs": [
    {
     "data": {
      "text/plain": [
       "0.9866666666666667"
      ]
     },
     "execution_count": 22,
     "metadata": {},
     "output_type": "execute_result"
    }
   ],
   "source": [
    "# Probability (1 <= being the age <= 75)\n",
    "uniform.cdf(75, 1, 75) - uniform.cdf(1, 1, 75)\n",
    "\n",
    "# 1 - always"
   ]
  },
  {
   "cell_type": "code",
   "execution_count": 24,
   "id": "3b8788aa",
   "metadata": {},
   "outputs": [
    {
     "data": {
      "text/plain": [
       "array([1.9613291 , 4.07103801, 3.68149245, 2.3597575 , 1.13764316])"
      ]
     },
     "execution_count": 24,
     "metadata": {},
     "output_type": "execute_result"
    }
   ],
   "source": [
    "# Generating random numbers according to random distribution\n",
    "\n",
    "# uniorm.rvs(start, end, size=how many values)\n",
    "\n",
    "uniform.rvs(0, 5, size = 5)"
   ]
  },
  {
   "cell_type": "markdown",
   "id": "500cbbea",
   "metadata": {},
   "source": [
    "# The Binomial distribution"
   ]
  },
  {
   "cell_type": "code",
   "execution_count": 3,
   "id": "b0d7e1a8",
   "metadata": {},
   "outputs": [
    {
     "data": {
      "text/plain": [
       "array([1, 0, 1], dtype=int64)"
      ]
     },
     "execution_count": 3,
     "metadata": {},
     "output_type": "execute_result"
    }
   ],
   "source": [
    "# Binary outcomes - 1(Success); 0(Failure)\n",
    "from scipy.stats import binom\n",
    "\n",
    "# binom.rvs(num of coins, probability of success(heads), size = number of trials(сколько раз))\n",
    "binom.rvs(1, 0.5, size = 3) #Flip 1 coin, with 50% probability of heads, 3 times"
   ]
  },
  {
   "cell_type": "code",
   "execution_count": 20,
   "id": "edac4711",
   "metadata": {},
   "outputs": [
    {
     "data": {
      "text/plain": [
       "(array([48.,  0.,  0.,  0.,  0.,  0.,  0.,  0.,  0., 52.]),\n",
       " array([0. , 0.1, 0.2, 0.3, 0.4, 0.5, 0.6, 0.7, 0.8, 0.9, 1. ]),\n",
       " <BarContainer object of 10 artists>)"
      ]
     },
     "execution_count": 20,
     "metadata": {},
     "output_type": "execute_result"
    },
    {
     "data": {
      "image/png": "[encoded data removed]",
      "text/plain": [
       "<Figure size 640x480 with 1 Axes>"
      ]
     },
     "metadata": {},
     "output_type": "display_data"
    }
   ],
   "source": [
    "# Visaulize probability of flipping a coin -- ecah 50% \n",
    "plt.hist(binom.rvs(1, 0.5, size = 100))"
   ]
  },
  {
   "cell_type": "code",
   "execution_count": 16,
   "id": "cbb5230d",
   "metadata": {},
   "outputs": [
    {
     "data": {
      "text/plain": [
       "array([4], dtype=int64)"
      ]
     },
     "execution_count": 16,
     "metadata": {},
     "output_type": "execute_result"
    }
   ],
   "source": [
    "# Many flips one time\n",
    "binom.rvs(8, 0.5, size = 1) #We get sum of sucesses"
   ]
  },
  {
   "cell_type": "code",
   "execution_count": 17,
   "id": "9f603bd5",
   "metadata": {},
   "outputs": [
    {
     "data": {
      "text/plain": [
       "array([0, 1, 1, 2, 2, 2, 3, 2, 1, 2], dtype=int64)"
      ]
     },
     "execution_count": 17,
     "metadata": {},
     "output_type": "execute_result"
    }
   ],
   "source": [
    "# Many flips many times\n",
    "binom.rvs(3, 0.5, size = 10) #We get sum of sucesses for every time(size)"
   ]
  },
  {
   "cell_type": "code",
   "execution_count": 21,
   "id": "33994301",
   "metadata": {},
   "outputs": [],
   "source": [
    "# Binomal distribution - probability distribution of the number of successes in a fixed\n",
    "# number of independent trials (outcome of each trial is not affected by the previous one)\n",
    "\n",
    "# Described by n and p\n",
    "# n - total number of trials\n",
    "# p - probability of success"
   ]
  },
  {
   "cell_type": "code",
   "execution_count": 49,
   "id": "6c55c5d5",
   "metadata": {},
   "outputs": [
    {
     "data": {
      "text/plain": [
       "0.11718749999999999"
      ]
     },
     "execution_count": 49,
     "metadata": {},
     "output_type": "execute_result"
    }
   ],
   "source": [
    "# P(heads = 7)\n",
    "\n",
    "# binom.pmf(number of heads we want to get, num of trials, probability of success)\n",
    "binom.pmf(7, 10, 0.5)"
   ]
  },
  {
   "cell_type": "code",
   "execution_count": 50,
   "id": "5ae3ec82",
   "metadata": {},
   "outputs": [
    {
     "data": {
      "text/plain": [
       "0.9453125"
      ]
     },
     "execution_count": 50,
     "metadata": {},
     "output_type": "execute_result"
    }
   ],
   "source": [
    "# P(heads <= 7)\n",
    "binom.cdf(7, 10, 0.5)"
   ]
  },
  {
   "cell_type": "code",
   "execution_count": 53,
   "id": "5479f870",
   "metadata": {},
   "outputs": [
    {
     "data": {
      "text/plain": [
       "0.0546875"
      ]
     },
     "execution_count": 53,
     "metadata": {},
     "output_type": "execute_result"
    }
   ],
   "source": [
    "# P(heads > 7) = 1 - binom.cdf(7, 10, 0.5)\n",
    "\n",
    "1 - binom.cdf(7, 10, 0.5)"
   ]
  },
  {
   "cell_type": "code",
   "execution_count": 54,
   "id": "0d424d21",
   "metadata": {},
   "outputs": [
    {
     "name": "stdout",
     "output_type": "stream",
     "text": [
      "5.0\n"
     ]
    }
   ],
   "source": [
    "# Expected value = n * p\n",
    "print(10 * 0.5)"
   ]
  }
 ],
 "metadata": {
  "kernelspec": {
   "display_name": "Python 3 (ipykernel)",
   "language": "python",
   "name": "python3"
  },
  "language_info": {
   "codemirror_mode": {
    "name": "ipython",
    "version": 3
   },
   "file_extension": ".py",
   "mimetype": "text/x-python",
   "name": "python",
   "nbconvert_exporter": "python",
   "pygments_lexer": "ipython3",
   "version": "3.11.3"
  }
 },
 "nbformat": 4,
 "nbformat_minor": 5
}
