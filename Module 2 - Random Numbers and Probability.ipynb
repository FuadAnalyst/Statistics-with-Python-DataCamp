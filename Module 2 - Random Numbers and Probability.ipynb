{
 "cells": [
  {
   "cell_type": "code",
   "execution_count": 1,
   "id": "1f056dc0",
   "metadata": {},
   "outputs": [],
   "source": [
    "import pandas as pd\n",
    "import numpy as np\n",
    "import matplotlib.pyplot as plt"
   ]
  },
  {
   "cell_type": "code",
   "execution_count": 2,
   "id": "131cc272",
   "metadata": {},
   "outputs": [
    {
     "data": {
      "text/html": [
       "<div>\n",
       "<style scoped>\n",
       "    .dataframe tbody tr th:only-of-type {\n",
       "        vertical-align: middle;\n",
       "    }\n",
       "\n",
       "    .dataframe tbody tr th {\n",
       "        vertical-align: top;\n",
       "    }\n",
       "\n",
       "    .dataframe thead th {\n",
       "        text-align: right;\n",
       "    }\n",
       "</style>\n",
       "<table border=\"1\" class=\"dataframe\">\n",
       "  <thead>\n",
       "    <tr style=\"text-align: right;\">\n",
       "      <th></th>\n",
       "      <th>product</th>\n",
       "      <th>client</th>\n",
       "      <th>status</th>\n",
       "      <th>amount</th>\n",
       "      <th>num_users</th>\n",
       "    </tr>\n",
       "  </thead>\n",
       "  <tbody>\n",
       "    <tr>\n",
       "      <th>0</th>\n",
       "      <td>Product F</td>\n",
       "      <td>Current</td>\n",
       "      <td>Won</td>\n",
       "      <td>7389.52</td>\n",
       "      <td>19</td>\n",
       "    </tr>\n",
       "    <tr>\n",
       "      <th>1</th>\n",
       "      <td>Product C</td>\n",
       "      <td>New</td>\n",
       "      <td>Won</td>\n",
       "      <td>4493.01</td>\n",
       "      <td>43</td>\n",
       "    </tr>\n",
       "    <tr>\n",
       "      <th>2</th>\n",
       "      <td>Product B</td>\n",
       "      <td>New</td>\n",
       "      <td>Won</td>\n",
       "      <td>5738.09</td>\n",
       "      <td>87</td>\n",
       "    </tr>\n",
       "    <tr>\n",
       "      <th>3</th>\n",
       "      <td>Product I</td>\n",
       "      <td>Current</td>\n",
       "      <td>Won</td>\n",
       "      <td>2591.24</td>\n",
       "      <td>83</td>\n",
       "    </tr>\n",
       "    <tr>\n",
       "      <th>4</th>\n",
       "      <td>Product E</td>\n",
       "      <td>Current</td>\n",
       "      <td>Won</td>\n",
       "      <td>6622.97</td>\n",
       "      <td>17</td>\n",
       "    </tr>\n",
       "    <tr>\n",
       "      <th>...</th>\n",
       "      <td>...</td>\n",
       "      <td>...</td>\n",
       "      <td>...</td>\n",
       "      <td>...</td>\n",
       "      <td>...</td>\n",
       "    </tr>\n",
       "    <tr>\n",
       "      <th>173</th>\n",
       "      <td>Product A</td>\n",
       "      <td>Current</td>\n",
       "      <td>Lost</td>\n",
       "      <td>5835.32</td>\n",
       "      <td>23</td>\n",
       "    </tr>\n",
       "    <tr>\n",
       "      <th>174</th>\n",
       "      <td>Product D</td>\n",
       "      <td>Current</td>\n",
       "      <td>Won</td>\n",
       "      <td>6377.50</td>\n",
       "      <td>12</td>\n",
       "    </tr>\n",
       "    <tr>\n",
       "      <th>175</th>\n",
       "      <td>Product D</td>\n",
       "      <td>Current</td>\n",
       "      <td>Won</td>\n",
       "      <td>3537.61</td>\n",
       "      <td>28</td>\n",
       "    </tr>\n",
       "    <tr>\n",
       "      <th>176</th>\n",
       "      <td>Product A</td>\n",
       "      <td>Current</td>\n",
       "      <td>Won</td>\n",
       "      <td>6448.07</td>\n",
       "      <td>34</td>\n",
       "    </tr>\n",
       "    <tr>\n",
       "      <th>177</th>\n",
       "      <td>Product D</td>\n",
       "      <td>New</td>\n",
       "      <td>Lost</td>\n",
       "      <td>7320.05</td>\n",
       "      <td>72</td>\n",
       "    </tr>\n",
       "  </tbody>\n",
       "</table>\n",
       "<p>178 rows × 5 columns</p>\n",
       "</div>"
      ],
      "text/plain": [
       "       product   client status   amount  num_users\n",
       "0    Product F  Current    Won  7389.52         19\n",
       "1    Product C      New    Won  4493.01         43\n",
       "2    Product B      New    Won  5738.09         87\n",
       "3    Product I  Current    Won  2591.24         83\n",
       "4    Product E  Current    Won  6622.97         17\n",
       "..         ...      ...    ...      ...        ...\n",
       "173  Product A  Current   Lost  5835.32         23\n",
       "174  Product D  Current    Won  6377.50         12\n",
       "175  Product D  Current    Won  3537.61         28\n",
       "176  Product A  Current    Won  6448.07         34\n",
       "177  Product D      New   Lost  7320.05         72\n",
       "\n",
       "[178 rows x 5 columns]"
      ]
     },
     "execution_count": 2,
     "metadata": {},
     "output_type": "execute_result"
    }
   ],
   "source": [
    "df = pd.read_csv('amir_deals.csv')\n",
    "df.drop(columns = 'Unnamed: 0', inplace = True)\n",
    "df"
   ]
  },
  {
   "cell_type": "code",
   "execution_count": 3,
   "id": "0030194d",
   "metadata": {},
   "outputs": [
    {
     "data": {
      "text/plain": [
       "Product B    62\n",
       "Product D    40\n",
       "Product A    23\n",
       "Product C    15\n",
       "Product F    11\n",
       "Product H     8\n",
       "Product I     7\n",
       "Product E     5\n",
       "Product N     3\n",
       "Product G     2\n",
       "Product J     2\n",
       "Name: product, dtype: int64"
      ]
     },
     "execution_count": 3,
     "metadata": {},
     "output_type": "execute_result"
    }
   ],
   "source": [
    "product_counts = df['product'].value_counts()\n",
    "product_counts"
   ]
  },
  {
   "cell_type": "code",
   "execution_count": 14,
   "id": "ce5976b5",
   "metadata": {},
   "outputs": [
    {
     "data": {
      "text/plain": [
       "Product H     8\n",
       "Product G     2\n",
       "Product N     3\n",
       "Product A    23\n",
       "Name: product, dtype: int64"
      ]
     },
     "execution_count": 14,
     "metadata": {},
     "output_type": "execute_result"
    }
   ],
   "source": [
    "# .sample(n) - randomly chooses n amount of values\n",
    "product_counts.sample(4)"
   ]
  },
  {
   "cell_type": "code",
   "execution_count": 11,
   "id": "c64c0a44",
   "metadata": {},
   "outputs": [
    {
     "data": {
      "text/plain": [
       "Product H     8\n",
       "Product N     3\n",
       "Product A    23\n",
       "Name: product, dtype: int64"
      ]
     },
     "execution_count": 11,
     "metadata": {},
     "output_type": "execute_result"
    }
   ],
   "source": [
    "# We can get the same value over and over again\n",
    "np.random.seed(5)\n",
    "product_counts.sample(3, replace = False)\n",
    "# 15, 7, 7 - replace = True; each one is independent - can be selected more than once\n",
    "# 8, 3, 23 - replace = False; dependent of prev one - can't be selected more than once"
   ]
  },
  {
   "cell_type": "code",
   "execution_count": null,
   "id": "848c7e0e",
   "metadata": {},
   "outputs": [],
   "source": [
    "# Sampling WITH and WITHOUT replacement"
   ]
  },
  {
   "cell_type": "code",
   "execution_count": 26,
   "id": "39b52e96",
   "metadata": {},
   "outputs": [
    {
     "data": {
      "text/plain": [
       "Product H     8\n",
       "Product E     5\n",
       "Product B    62\n",
       "Product D    40\n",
       "Name: product, dtype: int64"
      ]
     },
     "execution_count": 26,
     "metadata": {},
     "output_type": "execute_result"
    }
   ],
   "source": [
    "# With replacement - flip a coint 3 times; roll a dice 2 times\n",
    "\n",
    "# When outcome of the first, doesn't change the probability of the second event\n",
    "# Each pcik is independent -- 1,2,3,4 - all will always have 25% probability\n",
    "product_counts.sample(4, replace = True)"
   ]
  },
  {
   "cell_type": "code",
   "execution_count": 27,
   "id": "73bf7f15",
   "metadata": {},
   "outputs": [
    {
     "data": {
      "text/plain": [
       "Product J     2\n",
       "Product B    62\n",
       "Product C    15\n",
       "Product H     8\n",
       "Name: product, dtype: int64"
      ]
     },
     "execution_count": 27,
     "metadata": {},
     "output_type": "execute_result"
    }
   ],
   "source": [
    "# Without replacement - randomly pick 3 people from 30 - \n",
    "# - each human will have higher probability to be chooses each time\n",
    "# When each item is unique - and we can't choose the same item twice\n",
    "\n",
    "# When outcome of the first, changes the probability of the second\n",
    "# Each pick is dependent - 1,2,3,4 - 25% - took 2 - 1,3,4 - 33% - took 4 - 1,3 - 50%\n",
    "product_counts.sample(4)"
   ]
  },
  {
   "cell_type": "code",
   "execution_count": 29,
   "id": "a47629af",
   "metadata": {},
   "outputs": [
    {
     "name": "stdout",
     "output_type": "stream",
     "text": [
      "Product B    62\n",
      "Product D    40\n",
      "Product A    23\n",
      "Product C    15\n",
      "Product F    11\n",
      "Product H     8\n",
      "Product I     7\n",
      "Product E     5\n",
      "Product N     3\n",
      "Product G     2\n",
      "Product J     2\n",
      "Name: product, dtype: int64\n"
     ]
    }
   ],
   "source": [
    "# Count the deals for each product\n",
    "counts = df['product'].value_counts()\n",
    "print(counts)"
   ]
  },
  {
   "cell_type": "code",
   "execution_count": 30,
   "id": "55f59a6f",
   "metadata": {},
   "outputs": [
    {
     "name": "stdout",
     "output_type": "stream",
     "text": [
      "Product B    0.348315\n",
      "Product D    0.224719\n",
      "Product A    0.129213\n",
      "Product C    0.084270\n",
      "Product F    0.061798\n",
      "Product H    0.044944\n",
      "Product I    0.039326\n",
      "Product E    0.028090\n",
      "Product N    0.016854\n",
      "Product G    0.011236\n",
      "Product J    0.011236\n",
      "Name: product, dtype: float64\n"
     ]
    }
   ],
   "source": [
    "# Probability = number of ways event can happen / total number of possible outcomes\n",
    "# Calculate probability of picking a deal with each product\n",
    "probs = counts / df['product'].count()\n",
    "print(probs) #We get probability ro get each product\n",
    "\n",
    "# Here we can see whuch Products has higher Probability to be choosen while Sampling"
   ]
  },
  {
   "cell_type": "code",
   "execution_count": 35,
   "id": "9cd1e73f",
   "metadata": {},
   "outputs": [
    {
     "data": {
      "text/plain": [
       "<BarContainer object of 11 artists>"
      ]
     },
     "execution_count": 35,
     "metadata": {},
     "output_type": "execute_result"
    },
    {
     "data": {
      "image/png": "[encoded data removed]",
      "text/plain": [
       "<Figure size 640x480 with 1 Axes>"
      ]
     },
     "metadata": {},
     "output_type": "display_data"
    }
   ],
   "source": [
    "plt.bar(probs.index, probs.values)"
   ]
  },
  {
   "cell_type": "code",
   "execution_count": 37,
   "id": "2547730a",
   "metadata": {},
   "outputs": [
    {
     "data": {
      "text/html": [
       "<div>\n",
       "<style scoped>\n",
       "    .dataframe tbody tr th:only-of-type {\n",
       "        vertical-align: middle;\n",
       "    }\n",
       "\n",
       "    .dataframe tbody tr th {\n",
       "        vertical-align: top;\n",
       "    }\n",
       "\n",
       "    .dataframe thead th {\n",
       "        text-align: right;\n",
       "    }\n",
       "</style>\n",
       "<table border=\"1\" class=\"dataframe\">\n",
       "  <thead>\n",
       "    <tr style=\"text-align: right;\">\n",
       "      <th></th>\n",
       "      <th>product</th>\n",
       "      <th>client</th>\n",
       "      <th>status</th>\n",
       "      <th>amount</th>\n",
       "      <th>num_users</th>\n",
       "    </tr>\n",
       "  </thead>\n",
       "  <tbody>\n",
       "    <tr>\n",
       "      <th>127</th>\n",
       "      <td>Product B</td>\n",
       "      <td>Current</td>\n",
       "      <td>Won</td>\n",
       "      <td>2070.25</td>\n",
       "      <td>7</td>\n",
       "    </tr>\n",
       "    <tr>\n",
       "      <th>148</th>\n",
       "      <td>Product D</td>\n",
       "      <td>Current</td>\n",
       "      <td>Won</td>\n",
       "      <td>3485.48</td>\n",
       "      <td>52</td>\n",
       "    </tr>\n",
       "    <tr>\n",
       "      <th>77</th>\n",
       "      <td>Product B</td>\n",
       "      <td>Current</td>\n",
       "      <td>Won</td>\n",
       "      <td>6252.30</td>\n",
       "      <td>27</td>\n",
       "    </tr>\n",
       "    <tr>\n",
       "      <th>104</th>\n",
       "      <td>Product D</td>\n",
       "      <td>Current</td>\n",
       "      <td>Won</td>\n",
       "      <td>4110.98</td>\n",
       "      <td>39</td>\n",
       "    </tr>\n",
       "    <tr>\n",
       "      <th>166</th>\n",
       "      <td>Product C</td>\n",
       "      <td>New</td>\n",
       "      <td>Lost</td>\n",
       "      <td>3779.86</td>\n",
       "      <td>11</td>\n",
       "    </tr>\n",
       "  </tbody>\n",
       "</table>\n",
       "</div>"
      ],
      "text/plain": [
       "       product   client status   amount  num_users\n",
       "127  Product B  Current    Won  2070.25          7\n",
       "148  Product D  Current    Won  3485.48         52\n",
       "77   Product B  Current    Won  6252.30         27\n",
       "104  Product D  Current    Won  4110.98         39\n",
       "166  Product C      New   Lost  3779.86         11"
      ]
     },
     "execution_count": 37,
     "metadata": {},
     "output_type": "execute_result"
    }
   ],
   "source": [
    "# Set random seed\n",
    "np.random.seed(24)\n",
    "\n",
    "# Sample 5 deals without replacement\n",
    "sample_without_replacement = df.sample(5)\n",
    "sample_without_replacement"
   ]
  },
  {
   "cell_type": "markdown",
   "id": "5c7d1517",
   "metadata": {},
   "source": [
    "# Discrete Distributions"
   ]
  },
  {
   "cell_type": "code",
   "execution_count": null,
   "id": "43a685b4",
   "metadata": {},
   "outputs": [],
   "source": [
    "# Probability distribution - describes the probability of each possibel outcome in a scenario\n",
    "\n",
    "# Expected value: mean of a probability distribution\n",
    "# (1 * 1/6) + (2 * 1/6) + (3 * 1/6) + (4 * 1/6) + (5 * 1/6) + (6 * 1/6) = 3.5 - this value we expect to get"
   ]
  },
  {
   "cell_type": "code",
   "execution_count": null,
   "id": "aafff23d",
   "metadata": {},
   "outputs": [],
   "source": [
    "# Create a histogram of restaurant_groups and show plot\n",
    "restaurant_groups['group_size'].hist(bins=np.linspace(2,6,5))\n",
    "plt.show()"
   ]
  },
  {
   "cell_type": "code",
   "execution_count": null,
   "id": "f5db28f7",
   "metadata": {},
   "outputs": [],
   "source": [
    "# Create probability distribution\n",
    "size_dist = restaurant_groups['group_size'].value_counts() / restaurant_groups.shape[0]"
   ]
  },
  {
   "cell_type": "code",
   "execution_count": null,
   "id": "48a10870",
   "metadata": {},
   "outputs": [],
   "source": [
    "# Reset index and rename columns\n",
    "size_dist = size_dist.reset_index()\n",
    "size_dist.columns = ['group_size', 'prob']"
   ]
  },
  {
   "cell_type": "code",
   "execution_count": null,
   "id": "c5118ff5",
   "metadata": {},
   "outputs": [],
   "source": [
    "# Expected value\n",
    "expected_value = np.sum(size_dist['group_size'] * size_dist['prob'])"
   ]
  },
  {
   "cell_type": "code",
   "execution_count": null,
   "id": "9493d0dc",
   "metadata": {},
   "outputs": [],
   "source": [
    "# Subset groups of size 4 or more\n",
    "groups_4_or_more = size_dist[size_dist['group_size'] >= 4]"
   ]
  },
  {
   "cell_type": "code",
   "execution_count": null,
   "id": "307c3c3d",
   "metadata": {},
   "outputs": [],
   "source": [
    "# Sum the probabilities of groups_4_or_more\n",
    "prob_4_or_more = np.sum(groups_4_or_more['prob'])\n",
    "print(prob_4_or_more)"
   ]
  },
  {
   "cell_type": "code",
   "execution_count": null,
   "id": "9296d4f4",
   "metadata": {},
   "outputs": [],
   "source": [
    "# But we can see that np.mean(rolls10['numbers']) = 3.0 but expected 3.5\n",
    "# and  np.mean(rolls1000['numbers']) = 3.48\n",
    "\n",
    "# So, the bigger the size of your sample the closer \n",
    "# the sample mean to expected value"
   ]
  }
 ],
 "metadata": {
  "kernelspec": {
   "display_name": "Python 3 (ipykernel)",
   "language": "python",
   "name": "python3"
  },
  "language_info": {
   "codemirror_mode": {
    "name": "ipython",
    "version": 3
   },
   "file_extension": ".py",
   "mimetype": "text/x-python",
   "name": "python",
   "nbconvert_exporter": "python",
   "pygments_lexer": "ipython3",
   "version": "3.11.3"
  }
 },
 "nbformat": 4,
 "nbformat_minor": 5
}
